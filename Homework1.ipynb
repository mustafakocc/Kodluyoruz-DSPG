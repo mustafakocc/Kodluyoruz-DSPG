{
 "cells": [
  {
   "cell_type": "markdown",
   "metadata": {},
   "source": [
    "# 1. SORU"
   ]
  },
  {
   "cell_type": "code",
   "execution_count": 15,
   "metadata": {},
   "outputs": [
    {
     "name": "stdout",
     "output_type": "stream",
     "text": [
      "[[12, 11, 13, 14], [22, 21, 23, 24], [32, 31, 33, 34]]\n"
     ]
    }
   ],
   "source": [
    "M = [[11, 12, 13, 14], [21, 22, 23, 24], [31, 32, 33, 34]]\n",
    "\n",
    "for i in range(len(M)):\n",
    "    a=M[i][0]\n",
    "    b=M[i][1]\n",
    "    M[i][1]=a\n",
    "    M[i][0]=b\n",
    "    \n",
    "print(M)"
   ]
  },
  {
   "cell_type": "markdown",
   "metadata": {},
   "source": [
    "# 2. SORU"
   ]
  },
  {
   "cell_type": "code",
   "execution_count": 21,
   "metadata": {},
   "outputs": [
    {
     "name": "stdout",
     "output_type": "stream",
     "text": [
      "(1, 3)\n"
     ]
    }
   ],
   "source": [
    "M = [[0, 3, 2, 4], [2, 7, 5, 9], [6, 1, 2, 3]]\n",
    "list=[]\n",
    "pos=()\n",
    "for i in range(len(M)):\n",
    "  M[i].sort()\n",
    "  list.append(M[i][-1])\n",
    "list.sort()\n",
    "a=int(list[-1])\n",
    "for i in M:\n",
    "  for b in i:\n",
    "    if b==a:\n",
    "      pos=(M.index(i),i.index(b))\n",
    "      print (pos)"
   ]
  },
  {
   "cell_type": "markdown",
   "metadata": {},
   "source": [
    "# 3. SORU"
   ]
  },
  {
   "cell_type": "code",
   "execution_count": 2,
   "metadata": {},
   "outputs": [
    {
     "data": {
      "text/plain": [
       "8"
      ]
     },
     "execution_count": 2,
     "metadata": {},
     "output_type": "execute_result"
    }
   ],
   "source": [
    "list_1 = [1, 3, 4, 4, 12, 15, 15]\n",
    "\n",
    "list_2 = [2, 3, 5, 5, 12, 20, 20 ]\n",
    "\n",
    "list_1.extend(list_2)\n",
    "len(set(list_1))\n"
   ]
  },
  {
   "cell_type": "markdown",
   "metadata": {},
   "source": [
    "# 4. SORU"
   ]
  },
  {
   "cell_type": "code",
   "execution_count": 39,
   "metadata": {},
   "outputs": [
    {
     "name": "stdout",
     "output_type": "stream",
     "text": [
      "77.4\n",
      "Grades of Jane and Pat are above the average.\n",
      "Grades of Denis and Max and Lara are below the average.\n",
      "Grades of  are same with the average.\n"
     ]
    }
   ],
   "source": [
    "# Solve this question using dictionary below\n",
    "students = {\"Jane\":{\"grade\":90,\"student_number\":4012}, \n",
    "          \"Pat\":{\"grade\":81,\"student_number\":4052},\n",
    "          \"Denis\":{\"grade\":70,\"student_number\":4089},\n",
    "          \"Max\":{\"grade\":72,\"student_number\":4322},\n",
    "          \"Lara\":{\"grade\":74,\"student_number\":4042}}\n",
    "total=0\n",
    "below=[]\n",
    "equal=[]\n",
    "above=[]\n",
    "for k in students:\n",
    "  total=total+students[k]['grade']\n",
    "for k in students:\n",
    "  if students[k]['grade']>(total/len(students)):\n",
    "    above.append(k)\n",
    "  elif students[k]['grade']<(total/len(students)):\n",
    "    below.append(k) \n",
    "  else:\n",
    "    equal.append(k)\n",
    "print(total/len(students))\n",
    "print(\"Grades of\",' and '.join(above),\"are above the average.\")\n",
    "print(\"Grades of\",' and '.join(below),\"are below the average.\")\n",
    "print(\"Grades of\",' and '.join(equal),\"are same with the average.\")"
   ]
  },
  {
   "cell_type": "markdown",
   "metadata": {},
   "source": [
    "# 5. SORU"
   ]
  },
  {
   "cell_type": "code",
   "execution_count": 2,
   "metadata": {},
   "outputs": [
    {
     "name": "stdout",
     "output_type": "stream",
     "text": [
      "How many do you want to buy? Minimum is 1 and Maximum is 4:4\n",
      "16 tickets left.\n",
      "How many do you want to buy? Minimum is 1 and Maximum is 4:3\n",
      "13 tickets left.\n",
      "How many do you want to buy? Minimum is 1 and Maximum is 4:3\n",
      "10 tickets left.\n",
      "How many do you want to buy? Minimum is 1 and Maximum is 4:1\n",
      "9 tickets left.\n",
      "How many do you want to buy? Minimum is 1 and Maximum is 4:2\n",
      "7 tickets left.\n",
      "How many do you want to buy? Minimum is 1 and Maximum is 4:4\n",
      "3 tickets left.\n",
      "How many do you want to buy? Minimum is 1 and Maximum is 3:2\n",
      "1 tickets left.\n",
      "How many do you want to buy? Minimum is 1 and Maximum is 1:1\n",
      "0 tickets left.\n",
      "8 sold out\n"
     ]
    }
   ],
   "source": [
    "tickets=20\n",
    "sales=0\n",
    "buy=0\n",
    "max=4\n",
    "while tickets>0:\n",
    "  buy=int(input(f\"How many do you want to buy? Minimum is 1 and Maximum is {max}:\"))\n",
    "  tickets =tickets-buy\n",
    "  sales=sales+1\n",
    "  print(f\"{tickets} tickets left.\")\n",
    "  if tickets<4:\n",
    "    max=tickets\n",
    "  else:\n",
    "    max==4  \n",
    "if tickets==0:\n",
    "  print(sales, \"sold out\")"
   ]
  }
 ],
 "metadata": {
  "kernelspec": {
   "display_name": "Python 3",
   "language": "python",
   "name": "python3"
  },
  "language_info": {
   "codemirror_mode": {
    "name": "ipython",
    "version": 3
   },
   "file_extension": ".py",
   "mimetype": "text/x-python",
   "name": "python",
   "nbconvert_exporter": "python",
   "pygments_lexer": "ipython3",
   "version": "3.8.5"
  }
 },
 "nbformat": 4,
 "nbformat_minor": 4
}
