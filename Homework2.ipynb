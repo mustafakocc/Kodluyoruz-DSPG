{
 "cells": [
  {
   "cell_type": "markdown",
   "metadata": {},
   "source": [
    "# Answer 1"
   ]
  },
  {
   "cell_type": "code",
   "execution_count": 28,
   "metadata": {},
   "outputs": [],
   "source": [
    "def iter_power(k,n):\n",
    "    res = 1\n",
    "    \n",
    "    if n >= 0:\n",
    "        for i in range(1, n+1):\n",
    "            res *= k \n",
    "        return res\n",
    "    \n",
    "    elif n < 0:\n",
    "        for i in range(1, abs(n-1)):\n",
    "            res /= k \n",
    "        return res"
   ]
  },
  {
   "cell_type": "code",
   "execution_count": 30,
   "metadata": {},
   "outputs": [
    {
     "data": {
      "text/plain": [
       "0.012345679012345678"
      ]
     },
     "execution_count": 30,
     "metadata": {},
     "output_type": "execute_result"
    }
   ],
   "source": [
    "iter_power(3,-4)"
   ]
  },
  {
   "cell_type": "markdown",
   "metadata": {},
   "source": [
    "# Answer 2"
   ]
  },
  {
   "cell_type": "code",
   "execution_count": null,
   "metadata": {},
   "outputs": [],
   "source": [
    "def recur_power(k, n):\n",
    "\n",
    "   if n>=0:\n",
    "        if n==0:\n",
    "         res=1\n",
    "            \n",
    "        elif n==1:\n",
    "            res=k\n",
    "            \n",
    "        else:\n",
    "            res=k*recur_power(k,n-1)\n",
    "            \n",
    "        return res\n",
    "    \n",
    "    else:\n",
    "        n=abs(n)\n",
    "        k=1/k\n",
    "        \n",
    "        if n==1:\n",
    "            res=k\n",
    "            \n",
    "        else:\n",
    "            res=k*recur_power(k,n-1)\n",
    "            \n",
    "        return res"
   ]
  },
  {
   "cell_type": "code",
   "execution_count": 37,
   "metadata": {},
   "outputs": [
    {
     "data": {
      "text/plain": [
       "0.037037037037037035"
      ]
     },
     "execution_count": 37,
     "metadata": {},
     "output_type": "execute_result"
    }
   ],
   "source": [
    "recur_power(3,-3 )"
   ]
  },
  {
   "cell_type": "markdown",
   "metadata": {},
   "source": [
    "# Answer 3"
   ]
  },
  {
   "cell_type": "code",
   "execution_count": 38,
   "metadata": {},
   "outputs": [],
   "source": [
    "d = {\"a\":[1,2,3], \"b\":[45,43,21,23], \"c\":[3,4,5]}\n",
    "def max_key(d):\n",
    "    l=[]\n",
    "    new_list=[]\n",
    "    for k,v in d.items():\n",
    "        l.append(v)\n",
    "    \n",
    "    for e in l:\n",
    "        for i in e:\n",
    "            new_list.append(i)\n",
    "            \n",
    "    for k in d.keys():\n",
    "        if max(new_list) in d[k]:\n",
    "            return k"
   ]
  },
  {
   "cell_type": "code",
   "execution_count": 39,
   "metadata": {},
   "outputs": [
    {
     "data": {
      "text/plain": [
       "'b'"
      ]
     },
     "execution_count": 39,
     "metadata": {},
     "output_type": "execute_result"
    }
   ],
   "source": [
    "max_key(d)"
   ]
  },
  {
   "cell_type": "code",
   "execution_count": 41,
   "metadata": {},
   "outputs": [
    {
     "data": {
      "text/plain": [
       "'a'"
      ]
     },
     "execution_count": 41,
     "metadata": {},
     "output_type": "execute_result"
    }
   ],
   "source": [
    "d = {\"a\":[3,22], \"b\":[9,11], \"c\":[2,3,4]}\n",
    "max_key(d)"
   ]
  },
  {
   "cell_type": "markdown",
   "metadata": {},
   "source": [
    "# Answer 4"
   ]
  },
  {
   "cell_type": "code",
   "execution_count": 44,
   "metadata": {},
   "outputs": [
    {
     "data": {
      "text/plain": [
       "3"
      ]
     },
     "execution_count": 44,
     "metadata": {},
     "output_type": "execute_result"
    }
   ],
   "source": [
    "d={0:0,1:1}\n",
    "def fib(x):\n",
    "    if x not in d:\n",
    "        val=fib(x-1)+fib(x-2)\n",
    "        d[x]=val\n",
    "    return d[x]\n",
    "fib(4)"
   ]
  }
 ],
 "metadata": {
  "kernelspec": {
   "display_name": "Python 3",
   "language": "python",
   "name": "python3"
  },
  "language_info": {
   "codemirror_mode": {
    "name": "ipython",
    "version": 3
   },
   "file_extension": ".py",
   "mimetype": "text/x-python",
   "name": "python",
   "nbconvert_exporter": "python",
   "pygments_lexer": "ipython3",
   "version": "3.8.5"
  }
 },
 "nbformat": 4,
 "nbformat_minor": 4
}
