{
 "cells": [
  {
   "cell_type": "code",
   "execution_count": 9,
   "metadata": {},
   "outputs": [],
   "source": [
    "def counter(l):\n",
    "    d={}\n",
    "    new_list=[]\n",
    "    count=0\n",
    "    \n",
    "    for m in l:\n",
    "        for e in m:\n",
    "            new_list.append(e)\n",
    "            \n",
    "    s=sorted(set(new_list))\n",
    "    \n",
    "    for e in s:\n",
    "        d[e]=0\n",
    "        for i in range(len(new_list)):\n",
    "            if new_list[i]==e:\n",
    "                count+=1\n",
    "                d[e]=count\n",
    "        count=0\n",
    "       \n",
    "    return d\n"
   ]
  },
  {
   "cell_type": "code",
   "execution_count": 10,
   "metadata": {},
   "outputs": [
    {
     "data": {
      "text/plain": [
       "{'a': 3, 'b': 2, 'c': 1, 'd': 2}"
      ]
     },
     "execution_count": 10,
     "metadata": {},
     "output_type": "execute_result"
    }
   ],
   "source": [
    "l=[[\"a\",\"b\"],[\"a\",\"c\",\"d\"],[\"a\"],[\"b\",\"d\"]]\n",
    "counter(l)"
   ]
  }
 ],
 "metadata": {
  "kernelspec": {
   "display_name": "Python 3",
   "language": "python",
   "name": "python3"
  },
  "language_info": {
   "codemirror_mode": {
    "name": "ipython",
    "version": 3
   },
   "file_extension": ".py",
   "mimetype": "text/x-python",
   "name": "python",
   "nbconvert_exporter": "python",
   "pygments_lexer": "ipython3",
   "version": "3.8.5"
  }
 },
 "nbformat": 4,
 "nbformat_minor": 4
}
